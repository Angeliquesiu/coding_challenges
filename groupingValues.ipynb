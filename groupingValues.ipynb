{
 "metadata": {
  "language_info": {
   "codemirror_mode": {
    "name": "ipython",
    "version": 3
   },
   "file_extension": ".py",
   "mimetype": "text/x-python",
   "name": "python",
   "nbconvert_exporter": "python",
   "pygments_lexer": "ipython3",
   "version": "3.6.4-final"
  },
  "orig_nbformat": 2,
  "kernelspec": {
   "name": "python3",
   "display_name": "Python 3.6.4 64-bit ('base': conda)",
   "metadata": {
    "interpreter": {
     "hash": "e982d0a05f13c9347ff436d7fae9aed280ca06cf8899c914f8c06ead12448881"
    }
   }
  }
 },
 "nbformat": 4,
 "nbformat_minor": 2,
 "cells": [
  {
   "source": [
    "### Grouping values"
   ],
   "cell_type": "markdown",
   "metadata": {}
  },
  {
   "source": [
    "An array groupSizes is given, where the index is the person and the value is the size of the group the person should be in.\n",
    "\n",
    "Each person should appear in exactly one group, and every person must be in a group. If there are multiple answers, return any of them. It is guaranteed that there will be at least one valid solution for the given input."
   ],
   "cell_type": "markdown",
   "metadata": {}
  },
  {
   "cell_type": "code",
   "execution_count": 3,
   "metadata": {},
   "outputs": [
    {
     "output_type": "stream",
     "name": "stdout",
     "text": [
      "[[0, 1, 2], [3, 4, 6], [5]]\n"
     ]
    }
   ],
   "source": [
    "groupSizes = [3,3,3,3,3,1,3]\n",
    "\n",
    "res = {}\n",
    "for k, v in dict(enumerate(groupSizes)).items():\n",
    "    # grouping dict keys by value\n",
    "    res[v] = [k] if v not in res.keys() else res[v] + [k]\n",
    "\n",
    "group = []\n",
    "for k, v in res.items():\n",
    "    if k == len(v):\n",
    "        group.append(v)\n",
    "    else:\n",
    "        # split v (list) in to k chunks\n",
    "        group += [v[i:i + k] for i in range(0, len(v), k)]\n",
    "\n",
    "print(group)"
   ]
  },
  {
   "cell_type": "code",
   "execution_count": null,
   "metadata": {},
   "outputs": [],
   "source": []
  }
 ]
}